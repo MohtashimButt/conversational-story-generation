{
 "cells": [
  {
   "cell_type": "markdown",
   "metadata": {},
   "source": [
    "### Exploration for understanding Data\n",
    "\n",
    "This will not run here since the dataclasses, and functions are not here. They are in the main file."
   ]
  },
  {
   "cell_type": "markdown",
   "metadata": {},
   "source": [
    "### Imports\n"
   ]
  },
  {
   "cell_type": "code",
   "execution_count": null,
   "metadata": {},
   "outputs": [],
   "source": [
    "import json"
   ]
  },
  {
   "cell_type": "markdown",
   "metadata": {},
   "source": [
    "### Exploring characters & their moves throughout the game"
   ]
  },
  {
   "cell_type": "code",
   "execution_count": null,
   "metadata": {},
   "outputs": [],
   "source": [
    "# needed to put entry info into JSON \n",
    "class EntryInfoEncoder(json.JSONEncoder):\n",
    "    def default(self, obj):\n",
    "        if isinstance(obj, EntryInfo):\n",
    "            return obj.__dict__\n",
    "        return json.JSONEncoder.default(self, obj)"
   ]
  },
  {
   "cell_type": "code",
   "execution_count": null,
   "metadata": {},
   "outputs": [],
   "source": [
    "# processed_story.characters is how to access the characters\n",
    "print(f\"Here are all character ids: {processed_story.characters.keys()}\\n\") # all characters are the keys \n",
    "\n",
    "for char_info in processed_story.characters.values():  # value is the characterInfo object\n",
    "    print(f\"The character is: {char_info.name}\")\n",
    "    print(f\"Associated things stored with each character: {char_info.__annotations__.keys()}\\n\\n\") # these are the associated things stored with each character\n",
    "    print(f\"Here are the entry ids/moves by this character (IN ORDER) throughout this game: \\n  {char_info.entry_ids}\\n\")\n",
    "\n",
    "    info_all_entries_by_current_character = []\n",
    "\n",
    "    # getting data for all entries done by this character\n",
    "    for entry_id in char_info.entry_ids:\n",
    "        info_all_entries_by_current_character.append(processed_story.entries[entry_id])\n",
    "    \n",
    "    # writing all data to JSON file (labelled with this character's name)\n",
    "    with open(f\"{char_info.name}_entry_info.json\", \"w\") as file:\n",
    "        json.dump(info_all_entries_by_current_character, file, cls=EntryInfoEncoder, indent=4)\n",
    "    \n",
    "    print(f\"Details of all these entries written to file \\\"{char_info.name}_entry_info.json\\\"\")\n"
   ]
  },
  {
   "cell_type": "markdown",
   "metadata": {},
   "source": [
    "### Exploring entries throughout the game (in sequence)"
   ]
  },
  {
   "cell_type": "code",
   "execution_count": null,
   "metadata": {},
   "outputs": [],
   "source": [
    "# processed_story.entries is how to access the entries\n",
    "# processed_story.establishment_entries is how to access the scene start entries\n",
    "\n",
    "print(f\"Here are all entries in this game, by everyone (narrator or other chars): {processed_story.entries.keys()}\\n\") \n",
    "\n",
    "# Keeping track of last known location since some starting scenes do not have place cards, so we continue the previous scene's location\n",
    "# It is initialized to the first place in Scene 1 of Game, it is always present\n",
    "first_scene_loc = list(processed_story.establishment_entries.values())[0].imp_cards['place_card'][0]\n",
    "last_known_location = {\"card_id\": first_scene_loc[\"card_id\"], \"name\": first_scene_loc[\"name\"], \"description\": first_scene_loc[\"description\"]}  \n",
    "\n",
    "for entry_info in processed_story.entries.values():  # value is the entryInfo object\n",
    "\n",
    "    print(f\"Associated things stored with each entry: {entry_info.__annotations__.keys()}\\n\\n\")\n",
    "\n",
    "    # when establishment entry\n",
    "    if entry_info.format == \"establishment\":\n",
    "        print(\"This is a scene start entry, description of this is our initial paragraph for this scene\\n\")\n",
    "        print(\"This para will repeat with each entry, since there are multiple entries in a scene\")\n",
    "        print(f\"Initial para: \\t {entry_info.text}\")\n",
    "    \n",
    "        # setting place for each scene\n",
    "        scene_location = entry_info.imp_cards[\"place_card\"][0]\n",
    "        if scene_location is not None:\n",
    "            last_known_location = {\"card_id\": scene_location[\"card_id\"], \"name\": scene_location[\"name\"], \"description\": scene_location[\"description\"]}\n",
    "        else:\n",
    "            print(f\"entry_id: {entry_id} is establishment but has no place card..\")\n",
    "\n",
    "        print(f\"The place associated with this scene will also repeat across parts of scene: {last_known_location[\"name\"]}\")\n",
    "    elif entry_info.format == \"move\":\n",
    "\n",
    "        print(f\"Each \\\"Move\\\" format entry's content will be the Current paragraph. Concatentated with initial para, it forms our total context\\n\")\n",
    "        total_context = processed_story.establishment_entries[entry_info.establishment_id].text + entry_info.text\n",
    "        print(f\"Here is the total context: {total_context}\")\n",
    "        character = processed_story.characters[entry_info.character_id]\n",
    "        # character.character_id, character.name, character.description for JSON later\n",
    "        print(f\"The character in this part of the scene is: \\t {character.name}\")\n",
    "\n",
    "        for event in entry_info.imp_cards[\"cards_played_on_challenge\"]:\n",
    "            print(f\"Here is an event this character does in this context \\t {event}\")\n",
    "        \n",
    "    # scene conclusion and addition entries by narrator are ignored (since there is no event/character options to them for BERT)\n",
    "    else:\n",
    "        continue"
   ]
  }
 ],
 "metadata": {
  "kernelspec": {
   "display_name": "myenv",
   "language": "python",
   "name": "python3"
  },
  "language_info": {
   "name": "python",
   "version": "3.12.3"
  }
 },
 "nbformat": 4,
 "nbformat_minor": 2
}
