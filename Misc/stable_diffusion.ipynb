{
  "nbformat": 4,
  "nbformat_minor": 0,
  "metadata": {
    "colab": {
      "private_outputs": true,
      "provenance": [],
      "gpuType": "T4"
    },
    "kernelspec": {
      "name": "python3",
      "display_name": "Python 3"
    },
    "language_info": {
      "name": "python"
    },
    "accelerator": "GPU"
  },
  "cells": [
    {
      "cell_type": "markdown",
      "source": [
        "# Installation"
      ],
      "metadata": {
        "id": "4CUniAVp5B_f"
      }
    },
    {
      "cell_type": "code",
      "source": [
        "%pip install --quiet --upgrade diffusers transformers accelerate mediapy\n",
        "!pip install openai\n",
        "!pip install Image\n",
        "!pip install optimum\n",
        "!pip install optimum.intel\n",
        "!pip install openvino"
      ],
      "metadata": {
        "id": "ufD_d64nr08H"
      },
      "execution_count": null,
      "outputs": []
    },
    {
      "cell_type": "markdown",
      "source": [
        "#Drive"
      ],
      "metadata": {
        "id": "UzkwqBt95AsZ"
      }
    },
    {
      "cell_type": "code",
      "source": [
        "from google.colab import drive\n",
        "drive.mount('/content/drive')"
      ],
      "metadata": {
        "id": "p_wniNFday8H"
      },
      "execution_count": null,
      "outputs": []
    },
    {
      "cell_type": "markdown",
      "source": [
        "##Imports"
      ],
      "metadata": {
        "id": "Q3i_TNjw4-0s"
      }
    },
    {
      "cell_type": "code",
      "source": [
        "from openai import OpenAI\n",
        "import mediapy as media\n",
        "import random\n",
        "import sys\n",
        "import torch\n",
        "import json\n",
        "import textwrap\n",
        "from diffusers import AutoPipelineForText2Image\n",
        "\n",
        "import cv2\n",
        "from PIL import Image\n",
        "import numpy as np"
      ],
      "metadata": {
        "id": "UxMVBgu149-V"
      },
      "execution_count": null,
      "outputs": []
    },
    {
      "cell_type": "markdown",
      "source": [
        "#Prompt preparation"
      ],
      "metadata": {
        "id": "ypRIjVRPERMo"
      }
    },
    {
      "cell_type": "code",
      "source": [
        "client = OpenAI(api_key=\"sk-proj-JYHoORcm3bg4YuzFKDNsT3BlbkFJTCr1mK3WwSSlzkPJ1eMV\")\n",
        "\n",
        "# Story context\n",
        "current_context = '''\n",
        "Gasping, eyes red and glaring into the dimness of her bedroom, Elanna sits bolt upright in bed. Or tries to; her legs and left arm are tangled in the sheets, immobilized, her grey tank top gone black and clinging between her breasts with terrorsweat. Her right hand is clamped tight around her Glock 23, which always lives on her bedside table. Only the fact that it’s also always safed has kept her from punching a good-sized hole in her apartment wall, maybe in a neighbor as well.\n",
        "That'd make a great headline. “Nightmare Cop Shoots Kid Next Door, Claims Monster in her Dream Made her Do It.”\n",
        "Shit.\n",
        "Draping a robe around herself- the place is way too chilly for t and scanties- she fumbles her way to the kitchen to douse her face. Third time in a month she’s had that dream. She wonders what the Department headtwister would think of it.\n",
        "If she dared tell him.\n",
        "Instead, she turns on the idiot box, just to have a human voice around, and stares out at the snow from the fifth floor. It looks so clean from up there. Everything always does.\n",
        "'''\n",
        "\n",
        "#will be fed to GPT\n",
        "character_name= [\"Elanna Porter (Eraille)\"]\n",
        "\n",
        "# Opening Humaira .json\n",
        "f = open(\"/content/drive/MyDrive/GENAI/place_and_scene_data.json\")\n",
        "my_file = json.load(f)\n",
        "print(my_file[0])\n",
        "# will be fed to CLIP\n",
        "event_description = f\"{my_file[0]['scene_location_name']}: {my_file[0]['scene_location_description']}\"\n",
        "\n",
        "first_para_disc = my_file[0]['scene_entry_content']\n",
        "para_no = 1 # will chanfge once we add the BERT thingie\n",
        "prompt = f'''\n",
        "You are supposed to generate paragraph number#{para_no} of a sotry (no more than 70 words). Consider that the first paragraph's desciption is:{first_para_disc}. The characters involved are: {character_name}. Write a creative, thrilling, and catchy paragraph (70 words only)\n",
        "'''\n",
        "prompt = textwrap.fill(prompt, width=100)\n",
        "delimeter = \",\"\n",
        "# print(f\"\\n place name: {my_file[0]['scene_location_name']}\")\n",
        "print(f\"\\n Event description: {my_file[0]['scene_location_name']}: {my_file[0]['scene_location_description']}\")\n",
        "print(f\"\\n Characters involved: {delimeter.join(character_name)}\")\n",
        "print(f\"\\n current context: {current_context}\")"
      ],
      "metadata": {
        "id": "bG2hkmSEvByV"
      },
      "execution_count": null,
      "outputs": []
    },
    {
      "cell_type": "code",
      "source": [
        "# PROMPT TO GPT\n",
        "print(f\"Prompt to GPT: {prompt}\")"
      ],
      "metadata": {
        "id": "cK5qk5CIEqXL"
      },
      "execution_count": null,
      "outputs": []
    },
    {
      "cell_type": "code",
      "source": [
        "#PROMPT TO SD\n",
        "print(f\"PROMPT TO SD: {textwrap.fill(event_description, width=100)}\")"
      ],
      "metadata": {
        "id": "fqEA3njMRF1I"
      },
      "execution_count": null,
      "outputs": []
    },
    {
      "cell_type": "markdown",
      "source": [
        "##Testing GPT (will deduct $$$ on each run)"
      ],
      "metadata": {
        "id": "i5GrBFZH8Wsb"
      }
    },
    {
      "cell_type": "code",
      "source": [
        "\n",
        "my = client.chat.completions.create(\n",
        "    messages=[\n",
        "        {\"role\": \"user\", \"content\": prompt}\n",
        "    ],\n",
        "    model = \"gpt-3.5-turbo-0125\"\n",
        ")\n",
        "gpt_answer = my.choices[0].message.content\n",
        "print(textwrap.fill(gpt_answer, width=100))"
      ],
      "metadata": {
        "id": "hwzx12l48Yw5"
      },
      "execution_count": null,
      "outputs": []
    },
    {
      "cell_type": "markdown",
      "source": [
        "# Testing Stable Diffusion"
      ],
      "metadata": {
        "id": "7P6lY_qoH7Jc"
      }
    },
    {
      "cell_type": "code",
      "source": [
        "pipe = AutoPipelineForText2Image.from_pretrained(\n",
        "    \"stabilityai/sdxl-turbo\",\n",
        "    torch_dtype=torch.float16,\n",
        "    use_safetensors=True,\n",
        "    variant=\"fp16\",\n",
        "    )"
      ],
      "metadata": {
        "id": "wE-0hXnxI0tH"
      },
      "execution_count": null,
      "outputs": []
    },
    {
      "cell_type": "code",
      "source": [
        "pipe = pipe.to(\"cuda\")\n",
        "seed = random.randint(0, sys.maxsize)\n",
        "\n",
        "num_inference_steps = 4\n",
        "\n",
        "images = pipe(\n",
        "    prompt = gpt_answer+event_description,\n",
        "    guidance_scale = 0.0,\n",
        "    num_inference_steps = num_inference_steps,\n",
        "    generator = torch.Generator(\"cuda\").manual_seed(seed),\n",
        "    ).images\n",
        "\n",
        "print(textwrap.fill(gpt_answer, width=100))\n",
        "media.show_images(images)"
      ],
      "metadata": {
        "id": "5ez-wIg9YIql"
      },
      "execution_count": null,
      "outputs": []
    },
    {
      "cell_type": "code",
      "source": [
        "images[0].save(\"/content/Untitled/image.png\")"
      ],
      "metadata": {
        "id": "GixuR7uni-9N"
      },
      "execution_count": null,
      "outputs": []
    },
    {
      "cell_type": "markdown",
      "source": [
        "## EXPERIMENTS"
      ],
      "metadata": {
        "id": "EwsO8RHd6Gn1"
      }
    },
    {
      "cell_type": "code",
      "source": [
        "from diffusers import StableDiffusionPipeline\n",
        "import torch\n",
        "\n",
        "model_id = \"runwayml/stable-diffusion-v1-5\"\n",
        "pipe = StableDiffusionPipeline.from_pretrained(model_id)"
      ],
      "metadata": {
        "id": "KkwcIxKckmn0"
      },
      "execution_count": null,
      "outputs": []
    },
    {
      "cell_type": "code",
      "source": [
        "\n",
        "prompt = '''Elanna Porter (Eraille) stood at the edge of the park, her breath forming wispy clouds in the frigid\n",
        "air. The moon cast a luminous glow over the snow-covered landscape, illuminating her determined\n",
        "expression. As she scanned the deserted streets, a sense of anticipation filled her. Tonight, she\n",
        "would embark on a mission that would defy the odds and challenge her to confront the darkest corners\n",
        "of her soul. The fate of the city lay in her hands.'''\n",
        "image = pipe(prompt).images[0]\n",
        "\n",
        "image.save(\"astronaut_rides_horse.png\")"
      ],
      "metadata": {
        "id": "_r9CIkLTxG-L"
      },
      "execution_count": null,
      "outputs": []
    },
    {
      "cell_type": "code",
      "source": [
        "dir = \"/content/save\"\n",
        "# pipe.save_pretrained(dir)\n",
        "loaded_pipe = StableDiffusionPipeline.from_pretrained(dir)\n",
        "prompt = \"At the stroke of three, silence descends upon the city, broken only by the faint echo of distant footsteps. Elanna Porter, her breath forming icy clouds in the frigid air, navigates the deserted streets. Her senses alert, she moves like a shadow, unseen yet vigilant. As the city sleeps under its snowy shroud, she is its silent guardian, ever watchful for the flicker of danger amidst the sparkling lights of dreams.\"\n",
        "image = pipe(prompt).images[0]\n",
        "\n",
        "# image.save(\"astronaut_rides_horse.png\")"
      ],
      "metadata": {
        "id": "xsDEFzRC1Z5K"
      },
      "execution_count": null,
      "outputs": []
    },
    {
      "cell_type": "code",
      "source": [
        "from optimum.intel.openvino import OVStableDiffusionPipeline\n",
        "model_id = \"runwayml/stable-diffusion-v1-5\"\n",
        "ov_pipe = OVStableDiffusionPipeline.from_pretrained(model_id, export=True)\n",
        "image = ov_pipe(prompt).images[0]"
      ],
      "metadata": {
        "id": "wErSOSLC5_2B"
      },
      "execution_count": null,
      "outputs": []
    }
  ]
}